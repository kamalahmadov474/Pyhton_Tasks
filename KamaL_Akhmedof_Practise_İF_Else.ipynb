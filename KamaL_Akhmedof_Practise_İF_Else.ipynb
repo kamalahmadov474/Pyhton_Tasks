{
  "nbformat": 4,
  "nbformat_minor": 0,
  "metadata": {
    "colab": {
      "provenance": [],
      "include_colab_link": true
    },
    "kernelspec": {
      "name": "python3",
      "display_name": "Python 3"
    },
    "language_info": {
      "name": "python"
    }
  },
  "cells": [
    {
      "cell_type": "markdown",
      "metadata": {
        "id": "view-in-github",
        "colab_type": "text"
      },
      "source": [
        "<a href=\"https://colab.research.google.com/github/kamalahmadov474/Python_Tasks/blob/main/KamaL_Akhmedof_Practise_%C4%B0F_Else.ipynb\" target=\"_parent\"><img src=\"https://colab.research.google.com/assets/colab-badge.svg\" alt=\"Open In Colab\"/></a>"
      ]
    },
    {
      "cell_type": "markdown",
      "source": [
        "1) Write a program that takes a day of the week as input (e.g., \"Monday\", \"Tuesday\") and prints whether it is a weekday or a weekend."
      ],
      "metadata": {
        "id": "Z9kmhge2flJv"
      }
    },
    {
      "cell_type": "markdown",
      "source": [
        "2) Write a program that classifies the temperature based on the following criteria:\n",
        "If the temperature is below -50°C or above 50°C, classify it as \"Extreme\".\n",
        "\n",
        "If the temperature is between -50°C and -20°C, classify it as \"Very Cold\".\n",
        "\n",
        "If the temperature is between -20°C and 0°C, classify it as \"Cold\".\n",
        "\n",
        "If the temperature is between 0°C and 20°C, classify it as \"Moderate\".\n",
        "\n",
        "If the temperature is between 20°C and 35°C, classify it as \"Warm\".\n",
        "\n",
        "If the temperature is between 35°C and 50°C, classify it as \"Hot\".\n",
        "\n",
        "Additionally, if the temperature is below freezing (0°C), print a warning message for potential frostbite.\n",
        "\n",
        "If the temperature is above 35°C, print a warning message for potential heatstroke."
      ],
      "metadata": {
        "id": "5e3OCcYCfoUC"
      }
    },
    {
      "cell_type": "markdown",
      "source": [
        "3) Write a program that validates a username and password based on the following criteria:\n",
        "The username must be at least 5 characters long.\n",
        "\n",
        "The password must be at least 8 characters long and must contain at least one digit.\n",
        "\n",
        "If both conditions are met, print \"Login successful\".\n",
        "\n",
        "If the username is too short, print \"Username is too short\".\n",
        "\n",
        "If the password is too short or lacks a digit, print \"Password is invalid\"."
      ],
      "metadata": {
        "id": "gr7zi8CogC7R"
      }
    },
    {
      "cell_type": "markdown",
      "source": [
        "4) Write a program that calculates the total price of items after applying discounts based on the following criteria:\n",
        "If the total price is above $500, apply a 10% discount.\n",
        "\n",
        "If the total price is above $1000, apply an additional 5% discount (total 15%).\n",
        "\n",
        "If the total price is below $100, add a 10 dollar shipping fee.\n",
        "\n",
        "Print the final price."
      ],
      "metadata": {
        "id": "divRCLC7gHIy"
      }
    },
    {
      "cell_type": "markdown",
      "source": [
        "5) 5. Write a program that converts a numerical grade (0-100) into a letter grade based on the following criteria:\n",
        "\n",
        "90-100: A\n",
        "\n",
        "80-89: B\n",
        "\n",
        "70-79: C\n",
        "\n",
        "60-69: D\n",
        "\n",
        "Below 60: F\n",
        "\n",
        "If the grade is not within the 0-100 range, print \"Invalid grade\".\n",
        "\n",
        "Print the corresponding letter grade."
      ],
      "metadata": {
        "id": "hS_ikSKbgMTB"
      }
    },
    {
      "cell_type": "markdown",
      "source": [
        "6) 6. Write a program that calculates the price of a movie ticket based on the age of the customer and the day of the week:\n",
        "\n",
        "Children under 12 years old get a 50% discount on weekdays.\n",
        "\n",
        "Seniors (65 years and older) get a 30% discount on weekdays.\n",
        "\n",
        "No discounts are applied on weekends.\n",
        "\n",
        "The base price of a ticket is $15.\n",
        "\n",
        "Print the final ticket price."
      ],
      "metadata": {
        "id": "5xQOuTcggN9w"
      }
    },
    {
      "cell_type": "markdown",
      "source": [
        "7) 7. Write a program that takes a person's age as input and classifies them into one of the following age groups:\n",
        "\n",
        "\"Infant\" (0-1 years)\n",
        "\n",
        "\"Child\" (2-12 years)\n",
        "\n",
        "\"Teenager\" (13-19 years)\n",
        "\n",
        "\"Adult\" (20-64 years)\n",
        "\n",
        "\"Senior\" (65 years and older)"
      ],
      "metadata": {
        "id": "K6Hhm9ANgWbb"
      }
    },
    {
      "cell_type": "code",
      "execution_count": null,
      "metadata": {
        "id": "JcB7p50Mfj81",
        "colab": {
          "base_uri": "https://localhost:8080/"
        },
        "outputId": "d9a2fd2f-cb34-41e1-dba4-f2f774527f5d"
      },
      "outputs": [
        {
          "output_type": "stream",
          "name": "stdout",
          "text": [
            "Enter a day of the week: Thursday\n",
            "Weekday\n"
          ]
        }
      ],
      "source": [
        "weekdays = [\"Monday\", \"Tuesday\", \"Wednesday\", \"Thursday\", \"Friday\"]\n",
        "weekends = [\"Saturday\", \"Sunday\"]\n",
        "day = input(\"Enter a day of the week: \").strip()\n",
        "if day in weekdays:\n",
        "    print(\"Weekday\")\n",
        "elif day in weekends:\n",
        "    print(\"Weekend\")\n",
        "else:\n",
        "    print(\"Invalid day\")\n"
      ]
    },
    {
      "cell_type": "code",
      "source": [
        "temperature = int(input(\"Enter temperature:\"))\n",
        "if temperature <= -50 or temperature > 50:\n",
        "  print(\"Extreme\")\n",
        "elif temperature >= -50 and temperature < -20:\n",
        "  print(\"Very cold\")\n",
        "elif temperature >= -20 and temperature < 0 :\n",
        "  print(\"Cold\")\n",
        "elif temperature >= 0 and temperature < 20:\n",
        "  print(\"Moderate\")\n",
        "elif temperature >= 20 and temperature < 35:\n",
        "  print(\"Warm\")\n",
        "elif temperature >= 35 and temperature < 50:\n",
        "  print(\"Hot\")\n",
        "else:\n",
        "  print(\"Unknown\")\n",
        "if temperature < 0:\n",
        "  print(\"Warning:Potential frostbite risk!\")\n",
        "if temperature >35:\n",
        "  print(\"Warning:Potential heatstroke risk!\")"
      ],
      "metadata": {
        "colab": {
          "base_uri": "https://localhost:8080/"
        },
        "id": "TcrUcSFzuZ-n",
        "outputId": "268057c8-6d87-43bb-8a7a-9fd44445d56c"
      },
      "execution_count": null,
      "outputs": [
        {
          "output_type": "stream",
          "name": "stdout",
          "text": [
            "Enter temperature:-1\n",
            "Cold\n",
            "Warning:Potential frostbite risk!\n"
          ]
        }
      ]
    },
    {
      "cell_type": "code",
      "source": [
        "username = input(\"Enter username: \")\n",
        "password = input(\"Enter password: \")\n",
        "if len(username) < 5:\n",
        "    print(\"Username is too short\")\n",
        "elif len(password) < 8 or not any(char.isdigit() for char in password):\n",
        "    print(\"Password is invalid\")\n",
        "else:\n",
        "    print(\"Login successful\")\n",
        "\n"
      ],
      "metadata": {
        "colab": {
          "base_uri": "https://localhost:8080/"
        },
        "id": "QWCBaJXK3Fl1",
        "outputId": "ee497c12-9c03-456b-e8a2-a5ce6ede5775"
      },
      "execution_count": null,
      "outputs": [
        {
          "output_type": "stream",
          "name": "stdout",
          "text": [
            "Enter username: k.ahmadov\n",
            "Enter password: ahmadov474\n",
            "Login successful\n"
          ]
        }
      ]
    },
    {
      "cell_type": "code",
      "source": [
        "price = int(input(\"Enter the price:\"))\n",
        "if price > 500:\n",
        "   final_price = price*0.9\n",
        "elif price > 1000:\n",
        "  final_price = price*0.85\n",
        "elif price < 100:\n",
        "  final_price = price + 10\n",
        "else:\n",
        "  print(\"Invalid number:\")\n",
        "print(f\"The final price:{final_price}\")"
      ],
      "metadata": {
        "colab": {
          "base_uri": "https://localhost:8080/"
        },
        "id": "a40ih2gr7vbC",
        "outputId": "e67ea583-e455-4f21-9182-22ca361eb298"
      },
      "execution_count": null,
      "outputs": [
        {
          "output_type": "stream",
          "name": "stdout",
          "text": [
            "Enter the price:505\n",
            "The final price:454.5\n"
          ]
        }
      ]
    },
    {
      "cell_type": "code",
      "source": [
        "numerical_grade = int(input(\"Enter the numerical grade (0-100): \"))\n",
        "if 90 <= numerical_grade <= 100:\n",
        "    letter_grade = \"A\"\n",
        "elif 80 <= numerical_grade <= 89:\n",
        "    letter_grade = \"B\"\n",
        "elif 70 <= numerical_grade <= 79:\n",
        "    letter_grade = \"C\"\n",
        "elif 60 <= numerical_grade <= 69:\n",
        "    letter_grade = \"D\"\n",
        "elif 0 <= numerical_grade < 60:\n",
        "    letter_grade = \"F\"\n",
        "else:\n",
        "    letter_grade = \"Invalid grade\"\n",
        "print(\"The corresponding letter grade is:\", letter_grade)\n"
      ],
      "metadata": {
        "colab": {
          "base_uri": "https://localhost:8080/"
        },
        "id": "fR3uxXsmDLpE",
        "outputId": "2f7f643a-b160-49ca-b011-fd13396e3691"
      },
      "execution_count": null,
      "outputs": [
        {
          "output_type": "stream",
          "name": "stdout",
          "text": [
            "Enter the numerical grade (0-100): 74\n",
            "The corresponding letter grade is: C\n"
          ]
        }
      ]
    },
    {
      "cell_type": "code",
      "source": [
        "age = int(input(\"Enter your age: \"))\n",
        "day_of_week = input(\"Enter the day of the week: \").lower()\n",
        "base_price = 15\n",
        "if day_of_week in ['monday', 'tuesday', 'wednesday', 'thursday', 'friday']:\n",
        "    if age < 12:\n",
        "        ticket_price = base_price * 0.5\n",
        "    elif age >= 65:\n",
        "        ticket_price = base_price * 0.7\n",
        "    else:\n",
        "        ticket_price = base_price\n",
        "else:\n",
        "    ticket_price = base_price\n",
        "print(\"The final ticket price is: $\", ticket_price)\n"
      ],
      "metadata": {
        "colab": {
          "base_uri": "https://localhost:8080/"
        },
        "id": "0zq83OlLDZWz",
        "outputId": "4c38983a-149e-4d0a-9a28-2c810e4a5931"
      },
      "execution_count": null,
      "outputs": [
        {
          "output_type": "stream",
          "name": "stdout",
          "text": [
            "Enter your age: 15\n",
            "Enter the day of the week: a\n",
            "The final ticket price is: $ 15\n"
          ]
        }
      ]
    },
    {
      "cell_type": "code",
      "source": [
        "age = int(input(\"Enter your age: \"))\n",
        "day_of_week = input(\"Enter the day of the week: \")\n",
        "base_price = 15\n",
        "weekdays = [\"Monday\", \"Tuesday\", \"Wednesday\", \"Thursday\", \"Friday\"]\n",
        "weekends = [\"Saturday\", \"Sunday\"]\n",
        "try:\n",
        "    if day_of_week in weekdays:\n",
        "        if age < 12:\n",
        "            ticket_price = base_price * 0.5\n",
        "        elif age >= 65:\n",
        "            ticket_price = base_price * 0.7\n",
        "        else:\n",
        "            ticket_price = base_price\n",
        "        discount_applied = True\n",
        "    elif day_of_week in weekends:\n",
        "        ticket_price = base_price\n",
        "        discount_applied = False\n",
        "    else:\n",
        "        raise ValueError(\"Invalid day of the week provided.\")\n",
        "except ValueError as error:\n",
        "    print(\"Error:\", error)\n",
        "print(\"The final ticket price is: $\", ticket_price)\n",
        "if discount_applied:\n",
        "    print(\"Discount applied.\")\n",
        "else:\n",
        "    print(\"No discounts on weekends.\")\n"
      ],
      "metadata": {
        "colab": {
          "base_uri": "https://localhost:8080/"
        },
        "id": "5SpHpQVjFuDb",
        "outputId": "1992c53b-fc81-4cad-d26e-bd88af9295ef"
      },
      "execution_count": null,
      "outputs": [
        {
          "output_type": "stream",
          "name": "stdout",
          "text": [
            "Enter your age: 15\n",
            "Enter the day of the week: Saturday\n",
            "The final ticket price is: $ 15\n",
            "No discounts on weekends.\n"
          ]
        }
      ]
    },
    {
      "cell_type": "code",
      "source": [
        "age = int(input(\"Enter your age: \"))\n",
        "if 0 <= age <= 1:\n",
        "    age_group = \"Infant\"\n",
        "elif 2 <= age <= 12:\n",
        "    age_group = \"Child\"\n",
        "elif 13 <= age <= 19:\n",
        "    age_group = \"Teenager\"\n",
        "elif 20 <= age <= 64:\n",
        "    age_group = \"Adult\"\n",
        "elif age >= 65:\n",
        "    age_group = \"Senior\"\n",
        "else:\n",
        "    age_group = \"Invalid age\"\n",
        "print(\"You belong to the age group:\", age_group)\n"
      ],
      "metadata": {
        "colab": {
          "base_uri": "https://localhost:8080/"
        },
        "id": "Ea0RNGk4GY9Y",
        "outputId": "7ed70f07-6ca2-4d21-e5be-6b84f49a283f"
      },
      "execution_count": null,
      "outputs": [
        {
          "output_type": "stream",
          "name": "stdout",
          "text": [
            "Enter your age: 22\n",
            "You belong to the age group: Adult\n"
          ]
        }
      ]
    }
  ]
}