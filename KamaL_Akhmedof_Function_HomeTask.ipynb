{
  "nbformat": 4,
  "nbformat_minor": 0,
  "metadata": {
    "colab": {
      "provenance": [],
      "include_colab_link": true
    },
    "kernelspec": {
      "name": "python3",
      "display_name": "Python 3"
    },
    "language_info": {
      "name": "python"
    }
  },
  "cells": [
    {
      "cell_type": "markdown",
      "metadata": {
        "id": "view-in-github",
        "colab_type": "text"
      },
      "source": [
        "<a href=\"https://colab.research.google.com/github/kamalahmadov474/Python_Tasks/blob/main/KamaL_Akhmedof_Function_HomeTask.ipynb\" target=\"_parent\"><img src=\"https://colab.research.google.com/assets/colab-badge.svg\" alt=\"Open In Colab\"/></a>"
      ]
    },
    {
      "cell_type": "markdown",
      "source": [
        "1) Write a function is_even(n) that returns True if the number is even, otherwise False.\n",
        "\n",
        "2) Write a function is_prime(n) that checks if a number is prime. (*A prime number is a natural number greater than 1 that has no positive divisors other than 1 and itself. In other words, a prime number is only divisible by 1 and itself without leaving a remainder. Examples of prime numbers include 2, 3, 5, 7, 11, 13, 17, and so on.*)\n",
        "\n",
        "3) Write a  Python function to multiply all the numbers in a list.\n",
        "\n",
        "\n",
        "```\n",
        "Sample List : (8, 2, 3, -1, 7)\n",
        "Expected Output : -336\n",
        "```\n",
        "\n",
        "4) Write a Python function that accepts a string and counts the number of upper and lower case letters.\n",
        "\n",
        "```\n",
        "Sample String : 'The quick Brow Fox'\n",
        "Expected Output :\n",
        "No. of Upper case characters : 3\n",
        "No. of Lower case Characters : 12\n",
        "```\n",
        "\n",
        "5) Write a  Python function to create and print a list where the values are the squares of numbers between 1 and 30 (both included).\n",
        "\n",
        "6) Write a function to check if a given number is an Armstrong number or not.\n",
        "\n",
        "7) Write a function that calculates the sum of digits of a given number.\n",
        "\n",
        "8) Write a function that finds the number of divisors of a given number.\n",
        "\n",
        "9) Write a function called fuel_cost that takes a distance as a required argument, km (default 50 km) and fuel cost (default $1 a litre) as optional arguments. The function should return the cost in dollars.\n",
        "\n",
        "10) Write a function called hcf (ƏBOB) that takes 2 integer values and returns the highest common factor of the numbers.\n",
        "\n"
      ],
      "metadata": {
        "id": "Bk0TIJb3ERrI"
      }
    },
    {
      "cell_type": "code",
      "source": [
        "def is_even(n):\n",
        "  if n % 2 == 0:\n",
        "    return True\n",
        "  else:\n",
        "    return False\n",
        "n = int(input())\n",
        "if is_even(n):\n",
        "  print(\"Even\")\n",
        "else:\n",
        "  print(\"False\")"
      ],
      "metadata": {
        "colab": {
          "base_uri": "https://localhost:8080/"
        },
        "id": "jutMhXt-dFJL",
        "outputId": "e388b7e8-6631-4427-af4e-066a8819dedc"
      },
      "execution_count": null,
      "outputs": [
        {
          "output_type": "stream",
          "name": "stdout",
          "text": [
            "8\n",
            "Even\n"
          ]
        }
      ]
    },
    {
      "cell_type": "code",
      "source": [
        "def is_prime(n):\n",
        "  if n <=1:\n",
        "    return False\n",
        "  for k in range(2,int(n**0.5) + 1):\n",
        "    if n % k == 0:\n",
        "      return False\n",
        "    return True\n",
        "n = int(input())\n",
        "if is_prime(n):\n",
        "  print(\"A prime number\")\n",
        "else:\n",
        "  print(\"Not a prime number\")\n"
      ],
      "metadata": {
        "colab": {
          "base_uri": "https://localhost:8080/"
        },
        "id": "O455erZLd7K8",
        "outputId": "eb7b6adc-daff-4936-ca63-d5515bf322ca"
      },
      "execution_count": null,
      "outputs": [
        {
          "output_type": "stream",
          "name": "stdout",
          "text": [
            "101\n",
            "A prime number\n"
          ]
        }
      ]
    },
    {
      "cell_type": "code",
      "source": [
        "def multiply_all_numbers(nums):\n",
        "  multiplication = 1\n",
        "  for number in nums:\n",
        "    multiplication *= number\n",
        "  return multiplication\n",
        "list_1 = [8, 2, 3, -1, 7]\n",
        "print(multiply_all_numbers(list_1))"
      ],
      "metadata": {
        "colab": {
          "base_uri": "https://localhost:8080/"
        },
        "id": "1tWUpayLioMa",
        "outputId": "a8707eac-4315-4e30-be6e-fdb4fdbfa936"
      },
      "execution_count": null,
      "outputs": [
        {
          "output_type": "stream",
          "name": "stdout",
          "text": [
            "-336\n"
          ]
        }
      ]
    },
    {
      "cell_type": "code",
      "source": [
        "def number_of_upper_lower(n):\n",
        "  number_of_upper = sum(1 for k in n if k.isupper())\n",
        "  number_of_lower = sum(1 for k in n if k.islower())\n",
        "  print(f\"No. of Upper Case Letters: {number_of_upper}\")\n",
        "  print(f\"No. of Lower Case Letters: {number_of_lower}\")\n",
        "string = \"Kamal is a Senior Mechatronics and Robotics Engineering student.\"\n",
        "number_of_upper_lower(string)\n",
        "\n"
      ],
      "metadata": {
        "colab": {
          "base_uri": "https://localhost:8080/"
        },
        "id": "3IvoJEK_k4qD",
        "outputId": "9511d1a0-f149-4048-ed1d-1851aee901f2"
      },
      "execution_count": null,
      "outputs": [
        {
          "output_type": "stream",
          "name": "stdout",
          "text": [
            "No. of Upper Case Letters: 5\n",
            "No. of Lower Case Letters: 50\n"
          ]
        }
      ]
    },
    {
      "cell_type": "code",
      "source": [
        "def square_list():\n",
        "  squares_of_numbers = [k**2 for k in range(1,31)]\n",
        "  print(squares_of_numbers)\n",
        "square_list()"
      ],
      "metadata": {
        "colab": {
          "base_uri": "https://localhost:8080/"
        },
        "id": "O1pMadeDowlV",
        "outputId": "fdea691c-2db7-42f3-c2c0-f9addcc72774"
      },
      "execution_count": null,
      "outputs": [
        {
          "output_type": "stream",
          "name": "stdout",
          "text": [
            "[1, 4, 9, 16, 25, 36, 49, 64, 81, 100, 121, 144, 169, 196, 225, 256, 289, 324, 361, 400, 441, 484, 529, 576, 625, 676, 729, 784, 841, 900]\n"
          ]
        }
      ]
    },
    {
      "cell_type": "code",
      "source": [
        "def armstrong_number(num):\n",
        "  number_string = str(num)\n",
        "  number_digits = len(number_string)\n",
        "  armstrong_sum = sum(int(digit)**number_digits for digit in number_string)\n",
        "  return armstrong_sum == num\n",
        "print(armstrong_number(153))\n",
        "print(armstrong_number(127))"
      ],
      "metadata": {
        "colab": {
          "base_uri": "https://localhost:8080/"
        },
        "id": "gjeHrhNaqg0F",
        "outputId": "5ed0d5fa-4aec-4732-f658-f96eebb6aebe"
      },
      "execution_count": null,
      "outputs": [
        {
          "output_type": "stream",
          "name": "stdout",
          "text": [
            "True\n",
            "False\n"
          ]
        }
      ]
    },
    {
      "cell_type": "code",
      "source": [
        "def sum_of_digits(numbers):\n",
        "  number_string = str(numbers)\n",
        "  digits_sum = 0\n",
        "  for digit in number_string:\n",
        "    digits_sum += int(digit)\n",
        "  return digits_sum\n",
        "print(sum_of_digits(474))\n",
        "print(sum_of_digits(91))"
      ],
      "metadata": {
        "colab": {
          "base_uri": "https://localhost:8080/"
        },
        "id": "KAU2Sora0IZl",
        "outputId": "451f3879-ecf8-456f-88ef-544453db1d9b"
      },
      "execution_count": null,
      "outputs": [
        {
          "output_type": "stream",
          "name": "stdout",
          "text": [
            "15\n",
            "10\n"
          ]
        }
      ]
    },
    {
      "cell_type": "code",
      "source": [
        "def number_of_divisors(num):\n",
        "  count_of_divisors = 0\n",
        "  for k in range(1,num + 1):\n",
        "    if num % k == 0:\n",
        "      count_of_divisors += 1\n",
        "  return count_of_divisors\n",
        "print(number_of_divisors(15))\n",
        "print(number_of_divisors(19))"
      ],
      "metadata": {
        "colab": {
          "base_uri": "https://localhost:8080/"
        },
        "id": "XPgalqKr0-Ke",
        "outputId": "923fd1a6-06e7-42d6-b652-f8a0f4b03860"
      },
      "execution_count": null,
      "outputs": [
        {
          "output_type": "stream",
          "name": "stdout",
          "text": [
            "4\n",
            "2\n"
          ]
        }
      ]
    },
    {
      "cell_type": "code",
      "source": [
        "def fuel_cost(distance = 50, fuel_cost_per_liter = 1):\n",
        "  return distance * fuel_cost_per_liter\n",
        "print(fuel_cost())\n",
        "print(fuel_cost(50))\n",
        "print(fuel_cost(100,1.5))"
      ],
      "metadata": {
        "colab": {
          "base_uri": "https://localhost:8080/"
        },
        "id": "TKoxsHrW2W-H",
        "outputId": "69bb66a6-74f1-4613-fcca-3c0b49404f51"
      },
      "execution_count": null,
      "outputs": [
        {
          "output_type": "stream",
          "name": "stdout",
          "text": [
            "50\n",
            "50\n",
            "150.0\n"
          ]
        }
      ]
    },
    {
      "cell_type": "code",
      "source": [
        "def highest_common_factor(number_1, number_2):\n",
        "  while number_2:\n",
        "    number_1, number_2 = number_2, number_1 % number_2\n",
        "  return number_1\n",
        "print(highest_common_factor(15,100))\n",
        "print(highest_common_factor(23,39))"
      ],
      "metadata": {
        "colab": {
          "base_uri": "https://localhost:8080/"
        },
        "id": "rD8OUqeV4e13",
        "outputId": "1b6ced0e-aceb-4806-f5d2-673e005b3ab6"
      },
      "execution_count": null,
      "outputs": [
        {
          "output_type": "stream",
          "name": "stdout",
          "text": [
            "5\n",
            "1\n"
          ]
        }
      ]
    }
  ]
}