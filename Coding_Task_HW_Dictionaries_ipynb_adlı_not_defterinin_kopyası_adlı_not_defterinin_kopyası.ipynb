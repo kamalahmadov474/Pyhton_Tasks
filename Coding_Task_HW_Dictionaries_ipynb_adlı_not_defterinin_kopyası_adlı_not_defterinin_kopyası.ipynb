{
  "nbformat": 4,
  "nbformat_minor": 0,
  "metadata": {
    "colab": {
      "provenance": [],
      "include_colab_link": true
    },
    "kernelspec": {
      "name": "python3",
      "display_name": "Python 3"
    },
    "language_info": {
      "name": "python"
    }
  },
  "cells": [
    {
      "cell_type": "markdown",
      "metadata": {
        "id": "view-in-github",
        "colab_type": "text"
      },
      "source": [
        "<a href=\"https://colab.research.google.com/github/kamalahmadov474/Python_Tasks/blob/main/Coding_Task_HW_Dictionaries_ipynb_adl%C4%B1_not_defterinin_kopyas%C4%B1_adl%C4%B1_not_defterinin_kopyas%C4%B1.ipynb\" target=\"_parent\"><img src=\"https://colab.research.google.com/assets/colab-badge.svg\" alt=\"Open In Colab\"/></a>"
      ]
    },
    {
      "cell_type": "markdown",
      "source": [
        "1) Write a program to merge two dictionaries into one. If there are overlapping keys, sum their values.\n",
        "\n",
        "2) Write a Python program to create an empty dictionary.\n",
        "\n",
        "3) Write a Python script to iterate over a dictionary and print all key-value pairs.\n",
        "\n",
        "4) Write a Python program to remove the key-value pair with key 'age' from  dictionary\n",
        "\n",
        "5) Write a program to sort a dictionary by its keys in ascending order and print the sorted dictionary.\n",
        "\n",
        "6) Given a dictionary students_scores = {'Alice': 85, 'Bob': 90}, update the score for 'Alice' to 95. If 'Charlie' does not exist in the dictionary, add 'Charlie' with a default score of 60.\n",
        "\n",
        "7) Write a Python program to print all the values in  dictionary:\n",
        "\n",
        "8) Given a dictionary item_prices = {'apple': 1.00, 'banana': 0.50}, calculate the total price of all items. Then, apply a 10% discount to all items and update the dictionary."
      ],
      "metadata": {
        "id": "e22kUXzLqnG4"
      }
    },
    {
      "cell_type": "code",
      "execution_count": null,
      "metadata": {
        "id": "IdltApYrqmG3",
        "outputId": "76ed8b86-6035-498f-a9d4-b0da42c2d011",
        "colab": {
          "base_uri": "https://localhost:8080/"
        }
      },
      "outputs": [
        {
          "output_type": "stream",
          "name": "stdout",
          "text": [
            "{'a': 1, 'b': 5, 'c': 7, 'd': 5}\n"
          ]
        }
      ],
      "source": [
        "dict1 = {'a':1, 'b':2, 'c':3}\n",
        "dict2 = {'b':3, 'c':4, 'd':5}\n",
        "merged_dict = dict1.copy()\n",
        "for key,value in dict2.items():\n",
        "  if key in merged_dict:\n",
        "    merged_dict[key] += value\n",
        "  else:\n",
        "    merged_dict[key] = value\n",
        "print(merged_dict)"
      ]
    },
    {
      "cell_type": "code",
      "source": [
        "empty_dict = {}\n",
        "print(empty_dict)"
      ],
      "metadata": {
        "id": "hdYdN-ua2Ne1",
        "outputId": "18ffb240-52fd-4abe-bd7e-8fd5d4e1edbc",
        "colab": {
          "base_uri": "https://localhost:8080/"
        }
      },
      "execution_count": null,
      "outputs": [
        {
          "output_type": "stream",
          "name": "stdout",
          "text": [
            "{}\n"
          ]
        }
      ]
    },
    {
      "cell_type": "code",
      "source": [
        "example_dict = {'a':1, 'b':2, 'c':3, 'd':4}\n",
        "for key,value in example_dict.items():\n",
        "  print(f'Key: {key}, Value {value}')"
      ],
      "metadata": {
        "id": "5vjmHJXg2Suk",
        "outputId": "68916726-0044-466b-c450-78018a697b36",
        "colab": {
          "base_uri": "https://localhost:8080/"
        }
      },
      "execution_count": null,
      "outputs": [
        {
          "output_type": "stream",
          "name": "stdout",
          "text": [
            "Key: a, Value 1\n",
            "Key: b, Value 2\n",
            "Key: c, Value 3\n",
            "Key: d, Value 4\n"
          ]
        }
      ]
    },
    {
      "cell_type": "code",
      "source": [
        "person_dict = {'name': 'Kamal', 'age': 19, 'city': 'New York'}\n",
        "if 'age' in person_dict:\n",
        "  del person_dict['age']\n",
        "print(person_dict)"
      ],
      "metadata": {
        "id": "Qq0VVEKb3Lkt",
        "outputId": "eb179900-59e5-47ed-dec8-54cfa10051c3",
        "colab": {
          "base_uri": "https://localhost:8080/"
        }
      },
      "execution_count": null,
      "outputs": [
        {
          "output_type": "stream",
          "name": "stdout",
          "text": [
            "{'name': 'Kamal', 'city': 'New York'}\n"
          ]
        }
      ]
    },
    {
      "cell_type": "code",
      "source": [
        "unsorted_dict = {'banana': 3, 'apple': 4, 'pear':1, 'orange': 2}\n",
        "sorted_dict = dict(sorted(unsorted_dict.items()))\n",
        "print(sorted_dict)"
      ],
      "metadata": {
        "id": "0GiTKW124Jr8",
        "outputId": "ed77020d-66ce-4074-db81-6526cb844e37",
        "colab": {
          "base_uri": "https://localhost:8080/"
        }
      },
      "execution_count": null,
      "outputs": [
        {
          "output_type": "stream",
          "name": "stdout",
          "text": [
            "{'apple': 4, 'banana': 3, 'orange': 2, 'pear': 1}\n"
          ]
        }
      ]
    },
    {
      "cell_type": "code",
      "source": [
        "students_scores = {'Alice': 85, 'Bob': 90}\n",
        "students_scores['Alice'] = 95\n",
        "if 'Charlie' not in students_scores:\n",
        "  students_scores['Charlie'] = 60\n",
        "print(students_scores)\n"
      ],
      "metadata": {
        "id": "thGa2yGK5Qws",
        "outputId": "93f2f8c0-6667-4d4e-eb7f-f1c1a4deb6c0",
        "colab": {
          "base_uri": "https://localhost:8080/"
        }
      },
      "execution_count": null,
      "outputs": [
        {
          "output_type": "stream",
          "name": "stdout",
          "text": [
            "{'Alice': 95, 'Bob': 90, 'Charlie': 60}\n"
          ]
        }
      ]
    },
    {
      "cell_type": "code",
      "source": [
        "example_dict = {'name':'Kamal','age':19, 'city':'Baku'}\n",
        "for value in example_dict.values():\n",
        "  print(value)\n"
      ],
      "metadata": {
        "id": "yECna7fCVDFW",
        "outputId": "3d0b6a76-32b6-4834-c2ca-59d9423089e2",
        "colab": {
          "base_uri": "https://localhost:8080/"
        }
      },
      "execution_count": null,
      "outputs": [
        {
          "output_type": "stream",
          "name": "stdout",
          "text": [
            "Kamal\n",
            "19\n",
            "Baku\n"
          ]
        }
      ]
    },
    {
      "cell_type": "code",
      "source": [
        "item_prices = {'apple':1.00, 'banana':0.50}\n",
        "total_price = sum(item_prices.values())\n",
        "print(f\"Total price before discount: ${total_price}\")\n",
        "discount_rate = 0.10\n",
        "for item in item_prices:\n",
        "  item_prices[item] -= item_prices[item] * discount_rate\n",
        "print(\"Updated item prices with 10% discount:\")\n",
        "for item,price in item_prices.items():\n",
        "  print(f\"{item}: ${price:}\")\n",
        "total_price_after_discount = sum(item_prices.values())\n",
        "print(f\"Total price after discount: ${total_price_after_discount:.2f}\")"
      ],
      "metadata": {
        "id": "08cn7dnHVkaG",
        "outputId": "d6a1ebdb-2c73-4cc3-e7a8-78a188784468",
        "colab": {
          "base_uri": "https://localhost:8080/"
        }
      },
      "execution_count": null,
      "outputs": [
        {
          "output_type": "stream",
          "name": "stdout",
          "text": [
            "Total price before discount: $1.5\n",
            "Updated item prices with 10% discount:\n",
            "apple: $0.9\n",
            "banana: $0.45\n",
            "Total price after discount: $1.35\n"
          ]
        }
      ]
    }
  ]
}