{
  "nbformat": 4,
  "nbformat_minor": 0,
  "metadata": {
    "colab": {
      "provenance": [],
      "include_colab_link": true
    },
    "kernelspec": {
      "name": "python3",
      "display_name": "Python 3"
    },
    "language_info": {
      "name": "python"
    }
  },
  "cells": [
    {
      "cell_type": "markdown",
      "metadata": {
        "id": "view-in-github",
        "colab_type": "text"
      },
      "source": [
        "<a href=\"https://colab.research.google.com/github/kamalahmadov474/Python_Tasks/blob/main/KamaL_Akhmedof_Lists_For_loop_tasks.ipynb\" target=\"_parent\"><img src=\"https://colab.research.google.com/assets/colab-badge.svg\" alt=\"Open In Colab\"/></a>"
      ]
    },
    {
      "cell_type": "markdown",
      "source": [
        "# Lists:For Loop\n",
        "1. Convert a list of characters into a string. For example,\n",
        "\n",
        "\n",
        "```\n",
        "['a', 'b', 'c', 'd'] -> \"abcd\"\n",
        "```\n",
        "\n",
        "2. Calculate the area of a circle using its radius. **Get input from user** (pi = 3.14)\n",
        "\n",
        "3. Write a Python program that takes three numbers as input and prints the largest number. **Get Input from user.**\n",
        "\n",
        "```\n",
        "Enter first number:\n",
        "2\n",
        "Enter second number:\n",
        "6\n",
        "Enter third number:\n",
        "8\n",
        "Output: 862\n",
        "```\n",
        "\n",
        "4. Write a Python program that takes a list of integers and creates a new list containing the squares of each integer in the original list.\n",
        "\n",
        "```\n",
        "Input:\n",
        "[1, 2, 3, 4, 5]\n",
        "Output:\n",
        "[1, 4, 9, 16, 25]\n",
        "\n",
        "```\n",
        "\n",
        "5. Write a Python program that creates a new list where each element is the cumulative sum of the elements from the original list.\n",
        "\n",
        "```\n",
        "Input:\n",
        "[1, 2, 3, 4]\n",
        "Output:\n",
        "[1, 3, 6, 10]\n",
        "\n",
        "```"
      ],
      "metadata": {
        "id": "hdSFVbFZMhQN"
      }
    },
    {
      "cell_type": "code",
      "source": [
        "char_list = ['a', 'b', 'c', 'd']\n",
        "result_string = ''\n",
        "for char in char_list:\n",
        "    result_string += char\n",
        "print(result_string)\n",
        "\n"
      ],
      "metadata": {
        "colab": {
          "base_uri": "https://localhost:8080/"
        },
        "id": "7Tkvjejo4UqS",
        "outputId": "e57fd8f8-fada-4e3a-e131-037bfa2d8331"
      },
      "execution_count": null,
      "outputs": [
        {
          "output_type": "stream",
          "name": "stdout",
          "text": [
            "abcd\n"
          ]
        }
      ]
    },
    {
      "cell_type": "code",
      "source": [
        "pi = 3.14\n",
        "radius = float(input(\"Enter the radius of the circle: \"))\n",
        "area = 0\n",
        "for _ in range(1):\n",
        "    area = pi * (radius ** 2)\n",
        "print(\"The area of the circle is:\", area)\n"
      ],
      "metadata": {
        "colab": {
          "base_uri": "https://localhost:8080/"
        },
        "id": "KaAfEZc05ZyD",
        "outputId": "6beda03a-742f-41e1-a9a9-e555415456c2"
      },
      "execution_count": null,
      "outputs": [
        {
          "output_type": "stream",
          "name": "stdout",
          "text": [
            "Enter the radius of the circle: 2\n",
            "The area of the circle is: 12.56\n"
          ]
        }
      ]
    },
    {
      "cell_type": "code",
      "source": [
        "numbers = []\n",
        "for i in range(3):\n",
        "    num = float(input(f\"Enter number {i+1}: \"))\n",
        "    numbers.append(num)\n",
        "largest = numbers[0]\n",
        "for number in numbers:\n",
        "    if number > largest:\n",
        "        largest = number\n",
        "print(\"The largest number is:\", largest)2\n",
        "\n"
      ],
      "metadata": {
        "colab": {
          "base_uri": "https://localhost:8080/"
        },
        "id": "MaMaOHNJ5-NC",
        "outputId": "a6e3a150-6b72-422f-bef0-434a65f4ce46"
      },
      "execution_count": null,
      "outputs": [
        {
          "output_type": "stream",
          "name": "stdout",
          "text": [
            "Enter number 1: 2\n",
            "Enter number 2: 4\n",
            "Enter number 3: 1\n",
            "The largest number is: 4.0\n"
          ]
        }
      ]
    },
    {
      "cell_type": "code",
      "source": [
        "original_list = [1, 2, 3, 4, 5]\n",
        "squared_list = []\n",
        "for number in original_list:\n",
        "    squared_list.append(number ** 2)\n",
        "print(\"Original list:\", original_list)\n",
        "print(\"Squared list:\", squared_list)\n"
      ],
      "metadata": {
        "colab": {
          "base_uri": "https://localhost:8080/"
        },
        "id": "yKrzW4966UFa",
        "outputId": "f7b888ed-dc11-4e4f-eeff-24e0a8996827"
      },
      "execution_count": null,
      "outputs": [
        {
          "output_type": "stream",
          "name": "stdout",
          "text": [
            "Original list: [1, 2, 3, 4, 5]\n",
            "Squared list: [1, 4, 9, 16, 25]\n"
          ]
        }
      ]
    },
    {
      "cell_type": "code",
      "source": [
        "original_list = [1, 2, 3, 4]\n",
        "cumulative_list = []\n",
        "cumulative_sum = 0\n",
        "for number in original_list:\n",
        "    cumulative_sum += number\n",
        "    cumulative_list.append(cumulative_sum)\n",
        "print(\"Original list:\", original_list)\n",
        "print(\"Cumulative sum list:\", cumulative_list)\n"
      ],
      "metadata": {
        "colab": {
          "base_uri": "https://localhost:8080/"
        },
        "id": "gyhPhsKx62-i",
        "outputId": "927b1f5f-4abc-4c7a-b2fd-6a16023e8697"
      },
      "execution_count": null,
      "outputs": [
        {
          "output_type": "stream",
          "name": "stdout",
          "text": [
            "Original list: [1, 2, 3, 4]\n",
            "Cumulative sum list: [1, 3, 6, 10]\n"
          ]
        }
      ]
    }
  ]
}