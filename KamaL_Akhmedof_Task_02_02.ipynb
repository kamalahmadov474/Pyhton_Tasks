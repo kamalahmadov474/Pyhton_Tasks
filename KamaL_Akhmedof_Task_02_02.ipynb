{
  "nbformat": 4,
  "nbformat_minor": 0,
  "metadata": {
    "colab": {
      "provenance": [],
      "include_colab_link": true
    },
    "kernelspec": {
      "name": "python3",
      "display_name": "Python 3"
    },
    "language_info": {
      "name": "python"
    }
  },
  "cells": [
    {
      "cell_type": "markdown",
      "metadata": {
        "id": "view-in-github",
        "colab_type": "text"
      },
      "source": [
        "<a href=\"https://colab.research.google.com/github/kamalahmadov474/Python_Tasks/blob/main/KamaL_Akhmedof_Task_02_02.ipynb\" target=\"_parent\"><img src=\"https://colab.research.google.com/assets/colab-badge.svg\" alt=\"Open In Colab\"/></a>"
      ]
    },
    {
      "cell_type": "markdown",
      "source": [
        "**1)** Create a class with names of fruits and add a new fruit, \"fig\", to the end of the list and print the updated list.\n",
        "\n",
        "**2)** Create a list with the ages of the children in the class and print the length of the list.\n",
        "\n",
        "**3)** Insert a new fruit, \"grape\", at the second position in the list and print the updated list.\n",
        "\n",
        "**4)** Remove a specific fruit, \"fig\", from the list using the remove method and print the updated list.\n",
        "\n",
        "**5)** Print the last fruit in the list after sorting it in reverse alphabetical order using the sort method.\n",
        "\n",
        "**6)** Create a copy of the list sorted in alphabetical order without modifying the original list, and print both lists.\n",
        "\n",
        "**7)** Delete the values from the first element up to the fourth element in the list given below\n",
        "\n",
        "zodiac_signs = [\"Aries\", \"Taurus\", \"Gemini\", \"Cancer\", \"Capricorn\"]\n",
        "\n",
        "**8)** Prompt the user to enter a name, then print the second letter of the entered name to the screen.\n",
        "\n",
        "**9)** Create a program that asks the user to enter their name and their age. Print out a message addressed to them that tells them the year that they will turn 100 years old. For example,\n",
        "\n",
        "What is your name? Khalid\n",
        "\n",
        "How old are you? 23\n",
        "\n",
        "Khalid will be 100 years old in the year 2101\n",
        "\n",
        "**10)** Write a Python program that accepts an integer (n) and computes the value of n+nn+nnn. Get Input from user. For example, 5 + 55 + 555 = 615"
      ],
      "metadata": {
        "id": "MRDl-lfx7haM"
      }
    },
    {
      "cell_type": "code",
      "execution_count": null,
      "metadata": {
        "id": "PSvesDe07dxA",
        "colab": {
          "base_uri": "https://localhost:8080/"
        },
        "outputId": "81182e67-972d-4caf-da13-fde581bee858"
      },
      "outputs": [
        {
          "output_type": "stream",
          "name": "stdout",
          "text": [
            "['pineapple', 'banana', 'pear', 'fig']\n"
          ]
        }
      ],
      "source": [
        "fruits = [\"pineapple\", \"banana\", \"pear\"]\n",
        "fruits.append(\"fig\")\n",
        "print(fruits)\n"
      ]
    },
    {
      "cell_type": "code",
      "source": [
        "ages = [7, 10, 6, 9]\n",
        "print(len(ages))\n"
      ],
      "metadata": {
        "colab": {
          "base_uri": "https://localhost:8080/"
        },
        "id": "tZmZiu2d1KMw",
        "outputId": "c77b71b1-94c4-4e3f-d1e7-d3dc18d94c73"
      },
      "execution_count": null,
      "outputs": [
        {
          "output_type": "stream",
          "name": "stdout",
          "text": [
            "4\n"
          ]
        }
      ]
    },
    {
      "cell_type": "code",
      "source": [
        "fruits.insert(1,\"grape\")\n",
        "print(fruits)"
      ],
      "metadata": {
        "colab": {
          "base_uri": "https://localhost:8080/"
        },
        "id": "qVDPPpKv1dLP",
        "outputId": "6359ee59-745d-4565-d0d1-b1513abab60c"
      },
      "execution_count": null,
      "outputs": [
        {
          "output_type": "stream",
          "name": "stdout",
          "text": [
            "['pineapple', 'grape', 'banana', 'pear', 'fig']\n"
          ]
        }
      ]
    },
    {
      "cell_type": "code",
      "source": [],
      "metadata": {
        "id": "qa7JzRRZ2m43"
      },
      "execution_count": null,
      "outputs": []
    },
    {
      "cell_type": "code",
      "source": [
        "fruits = ['pineapple', 'grape', 'grape', 'banana', 'pear', 'fig']\n",
        "fruits.remove(\"fig\")\n",
        "print(fruits)"
      ],
      "metadata": {
        "colab": {
          "base_uri": "https://localhost:8080/"
        },
        "id": "4ynOoFu02-J2",
        "outputId": "24909bbe-efdd-4a42-ef5d-c9885d858375"
      },
      "execution_count": null,
      "outputs": [
        {
          "output_type": "stream",
          "name": "stdout",
          "text": [
            "['pineapple', 'grape', 'grape', 'banana', 'pear']\n"
          ]
        }
      ]
    },
    {
      "cell_type": "code",
      "source": [
        "fruits = [\"apple\", \"banana\", \"cherry\",\"fig\"]\n",
        "fruits.sort(reverse=True)\n",
        "print(fruits[-1])\n"
      ],
      "metadata": {
        "colab": {
          "base_uri": "https://localhost:8080/"
        },
        "id": "c9hEQA5-3i83",
        "outputId": "550baa82-6319-49ab-f75c-e1c0d604e475"
      },
      "execution_count": null,
      "outputs": [
        {
          "output_type": "stream",
          "name": "stdout",
          "text": [
            "apple\n"
          ]
        }
      ]
    },
    {
      "cell_type": "code",
      "source": [
        "fruits = ['pineapple', 'grape', 'grape', 'banana', 'pear']\n",
        "sorted_fruits = sorted(fruits)\n",
        "print(\"Original list:\", fruits)\n",
        "print(\"Sorted list:\", sorted_fruits)\n"
      ],
      "metadata": {
        "colab": {
          "base_uri": "https://localhost:8080/"
        },
        "id": "zNBuGME_59RP",
        "outputId": "54402ee2-b5dc-41e3-91f0-7915daf10425"
      },
      "execution_count": null,
      "outputs": [
        {
          "output_type": "stream",
          "name": "stdout",
          "text": [
            "Original list: ['pineapple', 'grape', 'grape', 'banana', 'pear']\n",
            "Sorted list: ['banana', 'grape', 'grape', 'pear', 'pineapple']\n"
          ]
        }
      ]
    },
    {
      "cell_type": "code",
      "source": [
        "zodiac_signs = [\"Aries\", \"Taurus\", \"Gemini\", \"Cancer\", \"Capricorn\"]\n",
        "del zodiac_signs[:4]\n",
        "print(zodiac_signs)\n"
      ],
      "metadata": {
        "colab": {
          "base_uri": "https://localhost:8080/"
        },
        "id": "UqLNym7J6LJf",
        "outputId": "eac8cb5c-24cc-4f84-b920-0fe8e6713676"
      },
      "execution_count": null,
      "outputs": [
        {
          "output_type": "stream",
          "name": "stdout",
          "text": [
            "['Capricorn']\n"
          ]
        }
      ]
    },
    {
      "cell_type": "code",
      "source": [
        "name=input(\"Enter a name:\")\n",
        "print(name[1])\n"
      ],
      "metadata": {
        "colab": {
          "base_uri": "https://localhost:8080/"
        },
        "id": "apOzQlTH6kJP",
        "outputId": "74b08338-b3d3-4d8a-d6ce-efc728cf4baa"
      },
      "execution_count": null,
      "outputs": [
        {
          "output_type": "stream",
          "name": "stdout",
          "text": [
            "Enter a name:Kamal\n",
            "a\n"
          ]
        }
      ]
    },
    {
      "cell_type": "code",
      "source": [
        "current_year = 2024\n",
        "name = input(\"Enter your name: \")\n",
        "age = int(input(\"Enter your age: \"))\n",
        "year_turn_100 = current_year + (100 - age)\n",
        "print(f\"{name} will turn 100 in {year_turn_100}.\")\n"
      ],
      "metadata": {
        "colab": {
          "base_uri": "https://localhost:8080/"
        },
        "id": "oi3bboGk7ItX",
        "outputId": "c415b102-d044-48ba-83a0-9ed29c38105a"
      },
      "execution_count": null,
      "outputs": [
        {
          "output_type": "stream",
          "name": "stdout",
          "text": [
            "Enter your name: Kamal\n",
            "Enter your age: 19\n",
            "Kamal will turn 100 in 2105.\n"
          ]
        }
      ]
    },
    {
      "cell_type": "code",
      "source": [
        "n = input(\"Enter an integer: \")\n",
        "n_int = int(n)\n",
        "nn = int(n * 2)\n",
        "nnn = int(n * 3)\n",
        "result = n_int + nn + nnn\n",
        "print(f\"The result of {n} + {nn} + {nnn} is: {result}\")\n"
      ],
      "metadata": {
        "colab": {
          "base_uri": "https://localhost:8080/"
        },
        "id": "Nk8bDRfQ9CcX",
        "outputId": "9bf26dda-9e20-48fd-a931-f724cb2e4623"
      },
      "execution_count": null,
      "outputs": [
        {
          "output_type": "stream",
          "name": "stdout",
          "text": [
            "Enter an integer: 1\n",
            "The result of 1 + 11 + 111 is: 123\n"
          ]
        }
      ]
    }
  ]
}