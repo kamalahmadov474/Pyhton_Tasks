{
  "nbformat": 4,
  "nbformat_minor": 0,
  "metadata": {
    "colab": {
      "provenance": [],
      "authorship_tag": "ABX9TyMuy4Dvv+i/YiQ6z100O+CF",
      "include_colab_link": true
    },
    "kernelspec": {
      "name": "python3",
      "display_name": "Python 3"
    },
    "language_info": {
      "name": "python"
    }
  },
  "cells": [
    {
      "cell_type": "markdown",
      "metadata": {
        "id": "view-in-github",
        "colab_type": "text"
      },
      "source": [
        "<a href=\"https://colab.research.google.com/github/kamalahmadov474/Python_Tasks/blob/main/While_Loop.ipynb\" target=\"_parent\"><img src=\"https://colab.research.google.com/assets/colab-badge.svg\" alt=\"Open In Colab\"/></a>"
      ]
    },
    {
      "cell_type": "markdown",
      "source": [
        "Counting Up:\n",
        "\n",
        "Write a program that counts from 1 to 10 using a while loop and prints each number."
      ],
      "metadata": {
        "id": "AUqLcJ4f7mvt"
      }
    },
    {
      "cell_type": "code",
      "source": [
        "current_number = 1\n",
        "while current_number <= 10:\n",
        "  print(current_number)\n",
        "  current_number += 1"
      ],
      "metadata": {
        "colab": {
          "base_uri": "https://localhost:8080/"
        },
        "id": "EH16IJUl7pAM",
        "outputId": "c81dc422-c911-43b6-b5d1-d06bd0c98743"
      },
      "execution_count": 4,
      "outputs": [
        {
          "output_type": "stream",
          "name": "stdout",
          "text": [
            "1\n",
            "2\n",
            "3\n",
            "4\n",
            "5\n",
            "6\n",
            "7\n",
            "8\n",
            "9\n",
            "10\n"
          ]
        }
      ]
    },
    {
      "cell_type": "markdown",
      "source": [
        "Counting Down:\n",
        "\n",
        "Write a program that counts down from 10 to 1 using a while loop and prints each number.\n"
      ],
      "metadata": {
        "id": "rqe88zk39g9v"
      }
    },
    {
      "cell_type": "code",
      "source": [
        "counter = 10\n",
        "while counter > 0:\n",
        "  print(counter)\n",
        "  counter -= 1"
      ],
      "metadata": {
        "colab": {
          "base_uri": "https://localhost:8080/"
        },
        "id": "1VNdti-T9o8H",
        "outputId": "30ffeb20-25a8-40af-8939-5b91b74925ed"
      },
      "execution_count": 8,
      "outputs": [
        {
          "output_type": "stream",
          "name": "stdout",
          "text": [
            "10\n",
            "9\n",
            "8\n",
            "7\n",
            "6\n",
            "5\n",
            "4\n",
            "3\n",
            "2\n",
            "1\n"
          ]
        }
      ]
    },
    {
      "cell_type": "markdown",
      "source": [
        "Sum of Numbers:\n",
        "\n",
        "Write a program that calculates the sum of the first 100 positive integers using a while loop.\n",
        "\n"
      ],
      "metadata": {
        "id": "5t64GJc0LtBP"
      }
    },
    {
      "cell_type": "code",
      "source": [
        "number = 1\n",
        "total_sum = 0\n",
        "while number <= 100:\n",
        "  total_sum += number\n",
        "  number += 1\n",
        "print(total_sum)\n"
      ],
      "metadata": {
        "colab": {
          "base_uri": "https://localhost:8080/"
        },
        "id": "tmze7uyn_Xp_",
        "outputId": "bac23d26-c31a-4c18-d678-58be8cef3d73"
      },
      "execution_count": 16,
      "outputs": [
        {
          "output_type": "stream",
          "name": "stdout",
          "text": [
            "5050\n"
          ]
        }
      ]
    },
    {
      "cell_type": "markdown",
      "source": [
        "Factorial Calculation:\n",
        "\n",
        "Write a program that calculates the factorial of a given number using a while loop. (e.g., 5! = 5 * 4 * 3 * 2 * 1)"
      ],
      "metadata": {
        "id": "LBydGlBVLzRQ"
      }
    },
    {
      "cell_type": "code",
      "source": [
        "num = int(input(\"Enter a number to calculate its factorial:\"))\n",
        "factorial = 1\n",
        "counter = num\n",
        "while counter > 1:\n",
        "          factorial *= counter\n",
        "          counter -= 1\n",
        "print(factorial)\n",
        "\n"
      ],
      "metadata": {
        "colab": {
          "base_uri": "https://localhost:8080/"
        },
        "id": "rb9-6UU4LqXI",
        "outputId": "d352c010-1075-45dd-9a56-d9a87bbb093a"
      },
      "execution_count": 19,
      "outputs": [
        {
          "output_type": "stream",
          "name": "stdout",
          "text": [
            "Enter a number to calculate its factorial:9\n",
            "362880\n"
          ]
        }
      ]
    },
    {
      "cell_type": "markdown",
      "source": [
        "Password Checker:\n",
        "\n",
        "Write a program that repeatedly asks the user for a password until they enter the correct one."
      ],
      "metadata": {
        "id": "cg4QVl73NX78"
      }
    },
    {
      "cell_type": "code",
      "source": [
        "password = \"Kamal123\"\n",
        "user_password = \"\"\n",
        "while user_password != password:\n",
        "  user_password = input(\"Enter the password:\")\n",
        "  if user_password != password:\n",
        "    print(\"Incorrect password,please try again.\")\n",
        "print(\"Access granted!\")"
      ],
      "metadata": {
        "colab": {
          "base_uri": "https://localhost:8080/"
        },
        "id": "KbX0Fd1kNWFH",
        "outputId": "6f7a6ba1-f7a4-40da-f622-1014a1d65b2f"
      },
      "execution_count": 27,
      "outputs": [
        {
          "output_type": "stream",
          "name": "stdout",
          "text": [
            "Enter the password:Kamal123\n",
            "Access granted!\n"
          ]
        }
      ]
    },
    {
      "cell_type": "markdown",
      "source": [
        "Even Numbers:\n",
        "\n",
        "Write a program that prints all even numbers between 1 and 50 using a while loop."
      ],
      "metadata": {
        "id": "Ra5YpDzySy3u"
      }
    },
    {
      "cell_type": "code",
      "source": [
        "numbers = 1\n",
        "even_numbers = []\n",
        "while numbers <= 50:\n",
        "  if numbers % 2 == 0:\n",
        "    even_numbers.append(numbers)\n",
        "  numbers += 1\n",
        "print(even_numbers)"
      ],
      "metadata": {
        "colab": {
          "base_uri": "https://localhost:8080/"
        },
        "id": "oVLceRS8S1Q-",
        "outputId": "5ff18ef8-366c-47ab-c571-da74dc5cbbc7"
      },
      "execution_count": 36,
      "outputs": [
        {
          "output_type": "stream",
          "name": "stdout",
          "text": [
            "[2, 4, 6, 8, 10, 12, 14, 16, 18, 20, 22, 24, 26, 28, 30, 32, 34, 36, 38, 40, 42, 44, 46, 48, 50]\n"
          ]
        }
      ]
    },
    {
      "cell_type": "markdown",
      "source": [
        "Multiplication Table:\n",
        "\n",
        "Write a program that generates and prints the multiplication table of a given number using a while loop.\n"
      ],
      "metadata": {
        "id": "USpvT4fnWdB1"
      }
    },
    {
      "cell_type": "code",
      "source": [
        "num = int(input(\"Enter a number:\"))\n",
        "counter = 1\n",
        "while counter <= 10:\n",
        "  result = num * counter\n",
        "  print(f\"{num} * {counter} = {result}\")\n",
        "  counter += 1"
      ],
      "metadata": {
        "colab": {
          "base_uri": "https://localhost:8080/"
        },
        "id": "qkhqhzH1Wffl",
        "outputId": "8a82b21a-2f8f-4b61-faed-897baab406f8"
      },
      "execution_count": 5,
      "outputs": [
        {
          "output_type": "stream",
          "name": "stdout",
          "text": [
            "Enter a number:4\n",
            "4 * 1 = 4\n",
            "4 * 2 = 8\n",
            "4 * 3 = 12\n",
            "4 * 4 = 16\n",
            "4 * 5 = 20\n",
            "4 * 6 = 24\n",
            "4 * 7 = 28\n",
            "4 * 8 = 32\n",
            "4 * 9 = 36\n",
            "4 * 10 = 40\n"
          ]
        }
      ]
    },
    {
      "cell_type": "markdown",
      "source": [
        "Reverse Digits:\n",
        "\n",
        "Write a program that reverses the digits of a given number using a while loop. (e.g., 1234 becomes 4321)"
      ],
      "metadata": {
        "id": "9M_nnseyegLc"
      }
    },
    {
      "cell_type": "code",
      "source": [
        "number = int(input(\"Enter the number:\"))\n",
        "reversed_number = 0\n",
        "while number > 0:\n",
        "  remainder = number % 10\n",
        "  reversed_number = (reversed_number * 10) + remainder\n",
        "  number = number // 10\n",
        "print(reversed_number)\n"
      ],
      "metadata": {
        "colab": {
          "base_uri": "https://localhost:8080/"
        },
        "id": "awNRh2cYeiec",
        "outputId": "d47191d6-6118-4d85-a662-a3a53fcced4c"
      },
      "execution_count": 8,
      "outputs": [
        {
          "output_type": "stream",
          "name": "stdout",
          "text": [
            "Enter the number:678\n",
            "876\n"
          ]
        }
      ]
    }
  ]
}